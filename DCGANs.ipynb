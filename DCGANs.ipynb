{
  "nbformat": 4,
  "nbformat_minor": 0,
  "metadata": {
    "colab": {
      "name": "DCGANs.ipynb",
      "provenance": [],
      "collapsed_sections": [],
      "include_colab_link": true
    },
    "kernelspec": {
      "name": "python3",
      "display_name": "Python 3"
    }
  },
  "cells": [
    {
      "cell_type": "markdown",
      "metadata": {
        "id": "view-in-github",
        "colab_type": "text"
      },
      "source": [
        "<a href=\"https://colab.research.google.com/github/lionheart7dec/playing_with_mnist/blob/master/DCGANs.ipynb\" target=\"_parent\"><img src=\"https://colab.research.google.com/assets/colab-badge.svg\" alt=\"Open In Colab\"/></a>"
      ]
    },
    {
      "cell_type": "code",
      "metadata": {
        "id": "HYJ-yElrBYNi",
        "colab_type": "code",
        "outputId": "ac9daaef-0584-45ee-d0cd-4447fcb629fc",
        "colab": {
          "base_uri": "https://localhost:8080/",
          "height": 52
        }
      },
      "source": [
        "import numpy as np\n",
        "import pandas as pd\n",
        "import seaborn as sns\n",
        "import matplotlib.pyplot as plt"
      ],
      "execution_count": 1,
      "outputs": [
        {
          "output_type": "stream",
          "text": [
            "/usr/local/lib/python3.6/dist-packages/statsmodels/tools/_testing.py:19: FutureWarning: pandas.util.testing is deprecated. Use the functions in the public API at pandas.testing instead.\n",
            "  import pandas.util.testing as tm\n"
          ],
          "name": "stderr"
        }
      ]
    },
    {
      "cell_type": "code",
      "metadata": {
        "id": "YDkoGxBmW5iG",
        "colab_type": "code",
        "colab": {}
      },
      "source": [
        "from tensorflow.keras.datasets import mnist"
      ],
      "execution_count": 0,
      "outputs": []
    },
    {
      "cell_type": "code",
      "metadata": {
        "id": "ZHmFzgl6YEkv",
        "colab_type": "code",
        "colab": {
          "base_uri": "https://localhost:8080/",
          "height": 52
        },
        "outputId": "e30b90b3-5913-492d-9747-8a8289c111cc"
      },
      "source": [
        "(x_train, y_train), (x_test, y_test)= mnist.load_data()"
      ],
      "execution_count": 3,
      "outputs": [
        {
          "output_type": "stream",
          "text": [
            "Downloading data from https://storage.googleapis.com/tensorflow/tf-keras-datasets/mnist.npz\n",
            "11493376/11490434 [==============================] - 0s 0us/step\n"
          ],
          "name": "stdout"
        }
      ]
    },
    {
      "cell_type": "code",
      "metadata": {
        "id": "uObWTe00hw58",
        "colab_type": "code",
        "outputId": "74b60bde-53b6-4b1d-ea13-5db2faf3e8c9",
        "colab": {
          "base_uri": "https://localhost:8080/",
          "height": 283
        }
      },
      "source": [
        "plt.imshow(x_train[0])"
      ],
      "execution_count": 4,
      "outputs": [
        {
          "output_type": "execute_result",
          "data": {
            "text/plain": [
              "<matplotlib.image.AxesImage at 0x7fc0b96de7b8>"
            ]
          },
          "metadata": {
            "tags": []
          },
          "execution_count": 4
        },
        {
          "output_type": "display_data",
          "data": {
            "image/png": "[encoded data removed]",
            "text/plain": [
              "<Figure size 432x288 with 1 Axes>"
            ]
          },
          "metadata": {
            "tags": [],
            "needs_background": "light"
          }
        }
      ]
    },
    {
      "cell_type": "code",
      "metadata": {
        "id": "Rde9_auLjJvL",
        "colab_type": "code",
        "colab": {}
      },
      "source": [
        "x_train = x_train/255"
      ],
      "execution_count": 0,
      "outputs": []
    },
    {
      "cell_type": "code",
      "metadata": {
        "id": "fMz0s2TXjJkP",
        "colab_type": "code",
        "colab": {}
      },
      "source": [
        "x_train = x_train.reshape(-1,28, 28, 1) * 2.-1."
      ],
      "execution_count": 0,
      "outputs": []
    },
    {
      "cell_type": "code",
      "metadata": {
        "id": "myZeZ92GjJVM",
        "colab_type": "code",
        "outputId": "b18ab8af-4dc9-4f95-c8cb-8e1b73678c5c",
        "colab": {
          "base_uri": "https://localhost:8080/",
          "height": 35
        }
      },
      "source": [
        "x_train.min()"
      ],
      "execution_count": 7,
      "outputs": [
        {
          "output_type": "execute_result",
          "data": {
            "text/plain": [
              "-1.0"
            ]
          },
          "metadata": {
            "tags": []
          },
          "execution_count": 7
        }
      ]
    },
    {
      "cell_type": "code",
      "metadata": {
        "id": "dYUrkKN0ijG6",
        "colab_type": "code",
        "colab": {}
      },
      "source": [
        "only_zeroes = x_train[y_train==0]"
      ],
      "execution_count": 0,
      "outputs": []
    },
    {
      "cell_type": "code",
      "metadata": {
        "id": "qVESuJ73-tC6",
        "colab_type": "code",
        "outputId": "52af3995-132f-4e83-a052-8222feb622cc",
        "colab": {
          "base_uri": "https://localhost:8080/",
          "height": 35
        }
      },
      "source": [
        "only_zeroes.shape"
      ],
      "execution_count": 9,
      "outputs": [
        {
          "output_type": "execute_result",
          "data": {
            "text/plain": [
              "(5923, 28, 28, 1)"
            ]
          },
          "metadata": {
            "tags": []
          },
          "execution_count": 9
        }
      ]
    },
    {
      "cell_type": "code",
      "metadata": {
        "id": "RAM3lk0x_Kzp",
        "colab_type": "code",
        "colab": {}
      },
      "source": [
        "import tensorflow as tf\n",
        "from tensorflow.keras.layers import Dense, Reshape, Flatten, Dropout, LeakyReLU, BatchNormalization, Conv2D, Conv2DTranspose\n",
        "from tensorflow.keras.models import Sequential"
      ],
      "execution_count": 0,
      "outputs": []
    },
    {
      "cell_type": "code",
      "metadata": {
        "id": "GHeoOLbUkAMe",
        "colab_type": "code",
        "colab": {}
      },
      "source": [
        "np.random.seed(42)\n",
        "tf.random.set_seed(42)\n",
        "\n",
        "codings_size = 100"
      ],
      "execution_count": 0,
      "outputs": []
    },
    {
      "cell_type": "code",
      "metadata": {
        "id": "7hR-clQG_0sI",
        "colab_type": "code",
        "colab": {}
      },
      "source": [
        "generator = Sequential()\n",
        "generator.add(Dense(7 * 7 * 128, input_shape = [codings_size]))\n",
        "generator.add(Reshape([7, 7, 128]))\n",
        "generator.add(BatchNormalization())\n",
        "generator.add(Conv2DTranspose(64, kernel_size = 5, strides = 2, padding='same', activation = 'relu'))\n",
        "generator.add(BatchNormalization())\n",
        "generator.add(Conv2DTranspose(1, kernel_size = 5, strides = 2, padding='same', activation = 'tanh'))"
      ],
      "execution_count": 0,
      "outputs": []
    },
    {
      "cell_type": "code",
      "metadata": {
        "id": "QEs10WMC8ydn",
        "colab_type": "code",
        "colab": {}
      },
      "source": [
        "discriminator = Sequential()\n",
        "discriminator.add(Conv2D(64, kernel_size= 5, strides=2, padding= 'same', activation=LeakyReLU(0.3), input_shape = [28, 28, 1]))\n",
        "discriminator.add(Dropout(0.5))\n",
        "discriminator.add(Conv2D(128, kernel_size= 5, strides=2, padding= 'same', activation=LeakyReLU(0.3)))\n",
        "discriminator.add(Dropout(0.5))\n",
        "discriminator.add(Flatten())\n",
        "discriminator.add(Dense(1, activation = 'sigmoid'))"
      ],
      "execution_count": 0,
      "outputs": []
    },
    {
      "cell_type": "code",
      "metadata": {
        "id": "2pyUXPa_ABeo",
        "colab_type": "code",
        "colab": {}
      },
      "source": [
        "GAN = Sequential([generator, discriminator])"
      ],
      "execution_count": 0,
      "outputs": []
    },
    {
      "cell_type": "code",
      "metadata": {
        "id": "Z_cjcmXw9_ii",
        "colab_type": "code",
        "colab": {}
      },
      "source": [
        "discriminator.compile(loss = 'binary_crossentropy', optimizer = 'adam')\n",
        "discriminator.trainable = False"
      ],
      "execution_count": 0,
      "outputs": []
    },
    {
      "cell_type": "code",
      "metadata": {
        "id": "lvfPpL9wBgTn",
        "colab_type": "code",
        "colab": {}
      },
      "source": [
        "GAN.compile(loss = 'binary_crossentropy', optimizer = 'adam')"
      ],
      "execution_count": 0,
      "outputs": []
    },
    {
      "cell_type": "code",
      "metadata": {
        "id": "vNS4zEMF-viX",
        "colab_type": "code",
        "colab": {}
      },
      "source": [
        "batch_size = 32"
      ],
      "execution_count": 0,
      "outputs": []
    },
    {
      "cell_type": "code",
      "metadata": {
        "id": "Qn3O5qXU-vZ9",
        "colab_type": "code",
        "colab": {}
      },
      "source": [
        "my_data = only_zeroes"
      ],
      "execution_count": 0,
      "outputs": []
    },
    {
      "cell_type": "code",
      "metadata": {
        "id": "JQOzK1EtLoMg",
        "colab_type": "code",
        "colab": {}
      },
      "source": [
        "dataset = tf.data.Dataset.from_tensor_slices(my_data).shuffle(buffer_size = 1000)"
      ],
      "execution_count": 0,
      "outputs": []
    },
    {
      "cell_type": "code",
      "metadata": {
        "id": "A1WcCa8hLoHP",
        "colab_type": "code",
        "outputId": "90f7a0f5-83b6-4581-e1dc-5ef05c81c4c5",
        "colab": {
          "base_uri": "https://localhost:8080/",
          "height": 35
        }
      },
      "source": [
        "type(dataset)"
      ],
      "execution_count": 29,
      "outputs": [
        {
          "output_type": "execute_result",
          "data": {
            "text/plain": [
              "tensorflow.python.data.ops.dataset_ops.ShuffleDataset"
            ]
          },
          "metadata": {
            "tags": []
          },
          "execution_count": 29
        }
      ]
    },
    {
      "cell_type": "code",
      "metadata": {
        "id": "dZnNwNQcLoGa",
        "colab_type": "code",
        "colab": {}
      },
      "source": [
        "dataset = dataset.batch(batch_size, drop_remainder = True).prefetch(1)"
      ],
      "execution_count": 0,
      "outputs": []
    },
    {
      "cell_type": "code",
      "metadata": {
        "id": "wkpI1sRuLoBp",
        "colab_type": "code",
        "colab": {}
      },
      "source": [
        "epochs = 20"
      ],
      "execution_count": 0,
      "outputs": []
    },
    {
      "cell_type": "code",
      "metadata": {
        "id": "kCmLXzKk_N0u",
        "colab_type": "code",
        "outputId": "09332ac8-773b-435f-f539-d00d1c67526f",
        "colab": {
          "base_uri": "https://localhost:8080/",
          "height": 124
        }
      },
      "source": [
        "GAN.layers[0].layers"
      ],
      "execution_count": 32,
      "outputs": [
        {
          "output_type": "execute_result",
          "data": {
            "text/plain": [
              "[<tensorflow.python.keras.layers.core.Dense at 0x7fc0b2d35898>,\n",
              " <tensorflow.python.keras.layers.core.Reshape at 0x7fc0b2d35cf8>,\n",
              " <tensorflow.python.keras.layers.normalization_v2.BatchNormalization at 0x7fc0b2d31ba8>,\n",
              " <tensorflow.python.keras.layers.convolutional.Conv2DTranspose at 0x7fc0b2cbf320>,\n",
              " <tensorflow.python.keras.layers.normalization_v2.BatchNormalization at 0x7fc0b2ce6da0>,\n",
              " <tensorflow.python.keras.layers.convolutional.Conv2DTranspose at 0x7fc0b2d313c8>]"
            ]
          },
          "metadata": {
            "tags": []
          },
          "execution_count": 32
        }
      ]
    },
    {
      "cell_type": "code",
      "metadata": {
        "id": "u4iQXya0_I3U",
        "colab_type": "code",
        "outputId": "3e9e97a3-ed90-4c6d-cd12-16a30f7e7488",
        "colab": {
          "base_uri": "https://localhost:8080/",
          "height": 372
        }
      },
      "source": [
        "GAN.layers[0].summary()"
      ],
      "execution_count": 33,
      "outputs": [
        {
          "output_type": "stream",
          "text": [
            "Model: \"sequential_5\"\n",
            "_________________________________________________________________\n",
            "Layer (type)                 Output Shape              Param #   \n",
            "=================================================================\n",
            "dense_5 (Dense)              (None, 6272)              633472    \n",
            "_________________________________________________________________\n",
            "reshape_5 (Reshape)          (None, 7, 7, 128)         0         \n",
            "_________________________________________________________________\n",
            "batch_normalization_5 (Batch (None, 7, 7, 128)         512       \n",
            "_________________________________________________________________\n",
            "conv2d_transpose_5 (Conv2DTr (None, 14, 14, 64)        204864    \n",
            "_________________________________________________________________\n",
            "batch_normalization_6 (Batch (None, 14, 14, 64)        256       \n",
            "_________________________________________________________________\n",
            "conv2d_transpose_6 (Conv2DTr (None, 28, 28, 1)         1601      \n",
            "=================================================================\n",
            "Total params: 840,705\n",
            "Trainable params: 840,321\n",
            "Non-trainable params: 384\n",
            "_________________________________________________________________\n"
          ],
          "name": "stdout"
        }
      ]
    },
    {
      "cell_type": "code",
      "metadata": {
        "id": "rlVSLXv0LoAy",
        "colab_type": "code",
        "outputId": "b6a763c2-fc0d-4e7a-95f4-239bd3daccac",
        "colab": {
          "base_uri": "https://localhost:8080/",
          "height": 372
        }
      },
      "source": [
        "GAN.layers[1].summary()"
      ],
      "execution_count": 34,
      "outputs": [
        {
          "output_type": "stream",
          "text": [
            "Model: \"sequential_8\"\n",
            "_________________________________________________________________\n",
            "Layer (type)                 Output Shape              Param #   \n",
            "=================================================================\n",
            "conv2d_2 (Conv2D)            (None, 14, 14, 64)        1664      \n",
            "_________________________________________________________________\n",
            "dropout_2 (Dropout)          (None, 14, 14, 64)        0         \n",
            "_________________________________________________________________\n",
            "conv2d_3 (Conv2D)            (None, 7, 7, 128)         204928    \n",
            "_________________________________________________________________\n",
            "dropout_3 (Dropout)          (None, 7, 7, 128)         0         \n",
            "_________________________________________________________________\n",
            "flatten_1 (Flatten)          (None, 6272)              0         \n",
            "_________________________________________________________________\n",
            "dense_7 (Dense)              (None, 1)                 6273      \n",
            "=================================================================\n",
            "Total params: 212,865\n",
            "Trainable params: 0\n",
            "Non-trainable params: 212,865\n",
            "_________________________________________________________________\n"
          ],
          "name": "stdout"
        }
      ]
    },
    {
      "cell_type": "code",
      "metadata": {
        "id": "bjwKLm7nLn7_",
        "colab_type": "code",
        "outputId": "f66a010c-296b-4951-cb47-6dc4c886c99b",
        "colab": {
          "base_uri": "https://localhost:8080/",
          "height": 1000
        }
      },
      "source": [
        "generator, discriminator = GAN.layers\n",
        "\n",
        "for epoch in range(epochs):\n",
        "  print(f'Currently on Epoch {epoch+1}')\n",
        "  i=0\n",
        "\n",
        "  for x_batch in dataset:\n",
        "\n",
        "    i = i+1\n",
        "\n",
        "    if i%20 ==0:\n",
        "      print(f\"\\tCurrently on batch number {i} of {len(my_data)//batch_size}\")\n",
        "\n",
        "    # Discrimator\n",
        "\n",
        "    noise = tf.random.normal(shape =[batch_size, codings_size])\n",
        "\n",
        "    gen_images = generator(noise)\n",
        "\n",
        "    x_fake_vs_real = tf.concat([gen_images, tf.dtypes.cast(x_batch, tf.float32)], axis = 0)\n",
        "\n",
        "    y1 = tf.constant([[0.0]]*batch_size + [[1.0]]*batch_size)\n",
        "\n",
        "    discriminator.trainable = True\n",
        "\n",
        "    discriminator.train_on_batch(x_fake_vs_real, y1)\n",
        "\n",
        "\n",
        "    # Training Generating\n",
        "    noise = tf.random.normal(shape=[batch_size, codings_size])\n",
        "    y2 = tf.constant( [[1.0]]*batch_size)\n",
        "    discriminator.trainable = False\n",
        "    GAN.train_on_batch(noise, y2)\n",
        "\n",
        "print('Training Complete')"
      ],
      "execution_count": 36,
      "outputs": [
        {
          "output_type": "stream",
          "text": [
            "Currently on Epoch 1\n",
            "\tCurrently on batch number 20 of 185\n",
            "\tCurrently on batch number 40 of 185\n",
            "\tCurrently on batch number 60 of 185\n",
            "\tCurrently on batch number 80 of 185\n",
            "\tCurrently on batch number 100 of 185\n",
            "\tCurrently on batch number 120 of 185\n",
            "\tCurrently on batch number 140 of 185\n",
            "\tCurrently on batch number 160 of 185\n",
            "\tCurrently on batch number 180 of 185\n",
            "Currently on Epoch 2\n",
            "\tCurrently on batch number 20 of 185\n",
            "\tCurrently on batch number 40 of 185\n",
            "\tCurrently on batch number 60 of 185\n",
            "\tCurrently on batch number 80 of 185\n",
            "\tCurrently on batch number 100 of 185\n",
            "\tCurrently on batch number 120 of 185\n",
            "\tCurrently on batch number 140 of 185\n",
            "\tCurrently on batch number 160 of 185\n",
            "\tCurrently on batch number 180 of 185\n",
            "Currently on Epoch 3\n",
            "\tCurrently on batch number 20 of 185\n",
            "\tCurrently on batch number 40 of 185\n",
            "\tCurrently on batch number 60 of 185\n",
            "\tCurrently on batch number 80 of 185\n",
            "\tCurrently on batch number 100 of 185\n",
            "\tCurrently on batch number 120 of 185\n",
            "\tCurrently on batch number 140 of 185\n",
            "\tCurrently on batch number 160 of 185\n",
            "\tCurrently on batch number 180 of 185\n",
            "Currently on Epoch 4\n",
            "\tCurrently on batch number 20 of 185\n",
            "\tCurrently on batch number 40 of 185\n",
            "\tCurrently on batch number 60 of 185\n",
            "\tCurrently on batch number 80 of 185\n",
            "\tCurrently on batch number 100 of 185\n",
            "\tCurrently on batch number 120 of 185\n",
            "\tCurrently on batch number 140 of 185\n",
            "\tCurrently on batch number 160 of 185\n",
            "\tCurrently on batch number 180 of 185\n",
            "Currently on Epoch 5\n",
            "\tCurrently on batch number 20 of 185\n",
            "\tCurrently on batch number 40 of 185\n",
            "\tCurrently on batch number 60 of 185\n",
            "\tCurrently on batch number 80 of 185\n",
            "\tCurrently on batch number 100 of 185\n",
            "\tCurrently on batch number 120 of 185\n",
            "\tCurrently on batch number 140 of 185\n",
            "\tCurrently on batch number 160 of 185\n",
            "\tCurrently on batch number 180 of 185\n",
            "Currently on Epoch 6\n",
            "\tCurrently on batch number 20 of 185\n",
            "\tCurrently on batch number 40 of 185\n",
            "\tCurrently on batch number 60 of 185\n",
            "\tCurrently on batch number 80 of 185\n",
            "\tCurrently on batch number 100 of 185\n",
            "\tCurrently on batch number 120 of 185\n",
            "\tCurrently on batch number 140 of 185\n",
            "\tCurrently on batch number 160 of 185\n",
            "\tCurrently on batch number 180 of 185\n",
            "Currently on Epoch 7\n",
            "\tCurrently on batch number 20 of 185\n",
            "\tCurrently on batch number 40 of 185\n",
            "\tCurrently on batch number 60 of 185\n",
            "\tCurrently on batch number 80 of 185\n",
            "\tCurrently on batch number 100 of 185\n",
            "\tCurrently on batch number 120 of 185\n",
            "\tCurrently on batch number 140 of 185\n",
            "\tCurrently on batch number 160 of 185\n",
            "\tCurrently on batch number 180 of 185\n",
            "Currently on Epoch 8\n",
            "\tCurrently on batch number 20 of 185\n",
            "\tCurrently on batch number 40 of 185\n",
            "\tCurrently on batch number 60 of 185\n",
            "\tCurrently on batch number 80 of 185\n",
            "\tCurrently on batch number 100 of 185\n",
            "\tCurrently on batch number 120 of 185\n",
            "\tCurrently on batch number 140 of 185\n",
            "\tCurrently on batch number 160 of 185\n",
            "\tCurrently on batch number 180 of 185\n",
            "Currently on Epoch 9\n",
            "\tCurrently on batch number 20 of 185\n",
            "\tCurrently on batch number 40 of 185\n",
            "\tCurrently on batch number 60 of 185\n",
            "\tCurrently on batch number 80 of 185\n",
            "\tCurrently on batch number 100 of 185\n",
            "\tCurrently on batch number 120 of 185\n",
            "\tCurrently on batch number 140 of 185\n",
            "\tCurrently on batch number 160 of 185\n",
            "\tCurrently on batch number 180 of 185\n",
            "Currently on Epoch 10\n",
            "\tCurrently on batch number 20 of 185\n",
            "\tCurrently on batch number 40 of 185\n",
            "\tCurrently on batch number 60 of 185\n",
            "\tCurrently on batch number 80 of 185\n",
            "\tCurrently on batch number 100 of 185\n",
            "\tCurrently on batch number 120 of 185\n",
            "\tCurrently on batch number 140 of 185\n",
            "\tCurrently on batch number 160 of 185\n",
            "\tCurrently on batch number 180 of 185\n",
            "Currently on Epoch 11\n",
            "\tCurrently on batch number 20 of 185\n",
            "\tCurrently on batch number 40 of 185\n",
            "\tCurrently on batch number 60 of 185\n",
            "\tCurrently on batch number 80 of 185\n",
            "\tCurrently on batch number 100 of 185\n",
            "\tCurrently on batch number 120 of 185\n",
            "\tCurrently on batch number 140 of 185\n",
            "\tCurrently on batch number 160 of 185\n",
            "\tCurrently on batch number 180 of 185\n",
            "Currently on Epoch 12\n",
            "\tCurrently on batch number 20 of 185\n",
            "\tCurrently on batch number 40 of 185\n",
            "\tCurrently on batch number 60 of 185\n",
            "\tCurrently on batch number 80 of 185\n",
            "\tCurrently on batch number 100 of 185\n",
            "\tCurrently on batch number 120 of 185\n",
            "\tCurrently on batch number 140 of 185\n",
            "\tCurrently on batch number 160 of 185\n",
            "\tCurrently on batch number 180 of 185\n",
            "Currently on Epoch 13\n",
            "\tCurrently on batch number 20 of 185\n",
            "\tCurrently on batch number 40 of 185\n",
            "\tCurrently on batch number 60 of 185\n",
            "\tCurrently on batch number 80 of 185\n",
            "\tCurrently on batch number 100 of 185\n",
            "\tCurrently on batch number 120 of 185\n",
            "\tCurrently on batch number 140 of 185\n",
            "\tCurrently on batch number 160 of 185\n",
            "\tCurrently on batch number 180 of 185\n",
            "Currently on Epoch 14\n",
            "\tCurrently on batch number 20 of 185\n",
            "\tCurrently on batch number 40 of 185\n",
            "\tCurrently on batch number 60 of 185\n",
            "\tCurrently on batch number 80 of 185\n",
            "\tCurrently on batch number 100 of 185\n",
            "\tCurrently on batch number 120 of 185\n",
            "\tCurrently on batch number 140 of 185\n",
            "\tCurrently on batch number 160 of 185\n",
            "\tCurrently on batch number 180 of 185\n",
            "Currently on Epoch 15\n",
            "\tCurrently on batch number 20 of 185\n",
            "\tCurrently on batch number 40 of 185\n",
            "\tCurrently on batch number 60 of 185\n",
            "\tCurrently on batch number 80 of 185\n",
            "\tCurrently on batch number 100 of 185\n",
            "\tCurrently on batch number 120 of 185\n",
            "\tCurrently on batch number 140 of 185\n",
            "\tCurrently on batch number 160 of 185\n",
            "\tCurrently on batch number 180 of 185\n",
            "Currently on Epoch 16\n",
            "\tCurrently on batch number 20 of 185\n",
            "\tCurrently on batch number 40 of 185\n",
            "\tCurrently on batch number 60 of 185\n",
            "\tCurrently on batch number 80 of 185\n",
            "\tCurrently on batch number 100 of 185\n",
            "\tCurrently on batch number 120 of 185\n",
            "\tCurrently on batch number 140 of 185\n",
            "\tCurrently on batch number 160 of 185\n",
            "\tCurrently on batch number 180 of 185\n",
            "Currently on Epoch 17\n",
            "\tCurrently on batch number 20 of 185\n",
            "\tCurrently on batch number 40 of 185\n",
            "\tCurrently on batch number 60 of 185\n",
            "\tCurrently on batch number 80 of 185\n",
            "\tCurrently on batch number 100 of 185\n",
            "\tCurrently on batch number 120 of 185\n",
            "\tCurrently on batch number 140 of 185\n",
            "\tCurrently on batch number 160 of 185\n",
            "\tCurrently on batch number 180 of 185\n",
            "Currently on Epoch 18\n",
            "\tCurrently on batch number 20 of 185\n",
            "\tCurrently on batch number 40 of 185\n",
            "\tCurrently on batch number 60 of 185\n",
            "\tCurrently on batch number 80 of 185\n",
            "\tCurrently on batch number 100 of 185\n",
            "\tCurrently on batch number 120 of 185\n",
            "\tCurrently on batch number 140 of 185\n",
            "\tCurrently on batch number 160 of 185\n",
            "\tCurrently on batch number 180 of 185\n",
            "Currently on Epoch 19\n",
            "\tCurrently on batch number 20 of 185\n",
            "\tCurrently on batch number 40 of 185\n",
            "\tCurrently on batch number 60 of 185\n",
            "\tCurrently on batch number 80 of 185\n",
            "\tCurrently on batch number 100 of 185\n",
            "\tCurrently on batch number 120 of 185\n",
            "\tCurrently on batch number 140 of 185\n",
            "\tCurrently on batch number 160 of 185\n",
            "\tCurrently on batch number 180 of 185\n",
            "Currently on Epoch 20\n",
            "\tCurrently on batch number 20 of 185\n",
            "\tCurrently on batch number 40 of 185\n",
            "\tCurrently on batch number 60 of 185\n",
            "\tCurrently on batch number 80 of 185\n",
            "\tCurrently on batch number 100 of 185\n",
            "\tCurrently on batch number 120 of 185\n",
            "\tCurrently on batch number 140 of 185\n",
            "\tCurrently on batch number 160 of 185\n",
            "\tCurrently on batch number 180 of 185\n",
            "Training Complete\n"
          ],
          "name": "stdout"
        }
      ]
    },
    {
      "cell_type": "code",
      "metadata": {
        "id": "5iJKQurPLn7I",
        "colab_type": "code",
        "outputId": "3cdb2813-7c65-4be3-e7ae-794781217032",
        "colab": {
          "base_uri": "https://localhost:8080/",
          "height": 35
        }
      },
      "source": [
        "noise = tf.random.normal(shape = [10, codings_size])\n",
        "noise.shape"
      ],
      "execution_count": 37,
      "outputs": [
        {
          "output_type": "execute_result",
          "data": {
            "text/plain": [
              "TensorShape([10, 100])"
            ]
          },
          "metadata": {
            "tags": []
          },
          "execution_count": 37
        }
      ]
    },
    {
      "cell_type": "code",
      "metadata": {
        "id": "hPRsWiaqLn2t",
        "colab_type": "code",
        "outputId": "694897f6-25bc-4e36-8e66-b75879b57644",
        "colab": {
          "base_uri": "https://localhost:8080/",
          "height": 102
        }
      },
      "source": [
        "plt.imshow(noise)"
      ],
      "execution_count": 38,
      "outputs": [
        {
          "output_type": "execute_result",
          "data": {
            "text/plain": [
              "<matplotlib.image.AxesImage at 0x7fc0af23d438>"
            ]
          },
          "metadata": {
            "tags": []
          },
          "execution_count": 38
        },
        {
          "output_type": "display_data",
          "data": {
            "image/png": "[encoded data removed]",
            "text/plain": [
              "<Figure size 432x288 with 1 Axes>"
            ]
          },
          "metadata": {
            "tags": [],
            "needs_background": "light"
          }
        }
      ]
    },
    {
      "cell_type": "code",
      "metadata": {
        "id": "y5GkTzoFLn1u",
        "colab_type": "code",
        "colab": {}
      },
      "source": [
        "images = generator(noise)"
      ],
      "execution_count": 0,
      "outputs": []
    },
    {
      "cell_type": "code",
      "metadata": {
        "id": "zdohR0lHLnxs",
        "colab_type": "code",
        "outputId": "0f39bd47-a00f-49a5-8b9d-e88c0ad05ea0",
        "colab": {
          "base_uri": "https://localhost:8080/",
          "height": 35
        }
      },
      "source": [
        "images.shape"
      ],
      "execution_count": 40,
      "outputs": [
        {
          "output_type": "execute_result",
          "data": {
            "text/plain": [
              "TensorShape([10, 28, 28, 1])"
            ]
          },
          "metadata": {
            "tags": []
          },
          "execution_count": 40
        }
      ]
    },
    {
      "cell_type": "code",
      "metadata": {
        "id": "H2sdcrUKUPFv",
        "colab_type": "code",
        "colab": {
          "base_uri": "https://localhost:8080/",
          "height": 1000
        },
        "outputId": "ae2d4edc-f2e1-4215-aca6-7c1fc414ac41"
      },
      "source": [
        "for image in images:\n",
        "  plt.imshow(image.numpy().reshape(28, 28))\n",
        "  plt.show()"
      ],
      "execution_count": 42,
      "outputs": [
        {
          "output_type": "display_data",
          "data": {
            "image/png": "[encoded data removed]",
            "text/plain": [
              "<Figure size 432x288 with 1 Axes>"
            ]
          },
          "metadata": {
            "tags": [],
            "needs_background": "light"
          }
        },
        {
          "output_type": "display_data",
          "data": {
            "image/png": "[encoded data removed]",
            "text/plain": [
              "<Figure size 432x288 with 1 Axes>"
            ]
          },
          "metadata": {
            "tags": [],
            "needs_background": "light"
          }
        },
        {
          "output_type": "display_data",
          "data": {
            "image/png": "[encoded data removed]",
            "text/plain": [
              "<Figure size 432x288 with 1 Axes>"
            ]
          },
          "metadata": {
            "tags": [],
            "needs_background": "light"
          }
        },
        {
          "output_type": "display_data",
          "data": {
            "image/png": "[encoded data removed]",
            "text/plain": [
              "<Figure size 432x288 with 1 Axes>"
            ]
          },
          "metadata": {
            "tags": [],
            "needs_background": "light"
          }
        },
        {
          "output_type": "display_data",
          "data": {
            "image/png": "[encoded data removed]",
            "text/plain": [
              "<Figure size 432x288 with 1 Axes>"
            ]
          },
          "metadata": {
            "tags": [],
            "needs_background": "light"
          }
        },
        {
          "output_type": "display_data",
          "data": {
            "image/png": "[encoded data removed]",
            "text/plain": [
              "<Figure size 432x288 with 1 Axes>"
            ]
          },
          "metadata": {
            "tags": [],
            "needs_background": "light"
          }
        },
        {
          "output_type": "display_data",
          "data": {
            "image/png": "[encoded data removed]",
            "text/plain": [
              "<Figure size 432x288 with 1 Axes>"
            ]
          },
          "metadata": {
            "tags": [],
            "needs_background": "light"
          }
        },
        {
          "output_type": "display_data",
          "data": {
            "image/png": "[encoded data removed]",
            "text/plain": [
              "<Figure size 432x288 with 1 Axes>"
            ]
          },
          "metadata": {
            "tags": [],
            "needs_background": "light"
          }
        },
        {
          "output_type": "display_data",
          "data": {
            "image/png": "[encoded data removed]",
            "text/plain": [
              "<Figure size 432x288 with 1 Axes>"
            ]
          },
          "metadata": {
            "tags": [],
            "needs_background": "light"
          }
        },
        {
          "output_type": "display_data",
          "data": {
            "image/png": "[encoded data removed]",
            "text/plain": [
              "<Figure size 432x288 with 1 Axes>"
            ]
          },
          "metadata": {
            "tags": [],
            "needs_background": "light"
          }
        }
      ]
    },
    {
      "cell_type": "code",
      "metadata": {
        "id": "S50TFRsWbt6E",
        "colab_type": "code",
        "colab": {}
      },
      "source": [
        ""
      ],
      "execution_count": 0,
      "outputs": []
    }
  ]
}