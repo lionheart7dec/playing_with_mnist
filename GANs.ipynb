{
  "nbformat": 4,
  "nbformat_minor": 0,
  "metadata": {
    "colab": {
      "name": "GANs.ipynb",
      "provenance": [],
      "collapsed_sections": [],
      "include_colab_link": true
    },
    "kernelspec": {
      "name": "python3",
      "display_name": "Python 3"
    }
  },
  "cells": [
    {
      "cell_type": "markdown",
      "metadata": {
        "id": "view-in-github",
        "colab_type": "text"
      },
      "source": [
        "<a href=\"https://colab.research.google.com/github/lionheart7dec/playing_with_mnist/blob/master/GANs.ipynb\" target=\"_parent\"><img src=\"https://colab.research.google.com/assets/colab-badge.svg\" alt=\"Open In Colab\"/></a>"
      ]
    },
    {
      "cell_type": "code",
      "metadata": {
        "id": "HYJ-yElrBYNi",
        "colab_type": "code",
        "colab": {}
      },
      "source": [
        "import numpy as np\n",
        "import pandas as pd\n",
        "import seaborn as sns\n",
        "import matplotlib.pyplot as plt"
      ],
      "execution_count": 0,
      "outputs": []
    },
    {
      "cell_type": "code",
      "metadata": {
        "id": "YDkoGxBmW5iG",
        "colab_type": "code",
        "colab": {}
      },
      "source": [
        "from tensorflow.keras.datasets import mnist"
      ],
      "execution_count": 0,
      "outputs": []
    },
    {
      "cell_type": "code",
      "metadata": {
        "id": "ZHmFzgl6YEkv",
        "colab_type": "code",
        "colab": {}
      },
      "source": [
        "(x_train, y_train), (x_test, y_test)= mnist.load_data()"
      ],
      "execution_count": 0,
      "outputs": []
    },
    {
      "cell_type": "code",
      "metadata": {
        "id": "uObWTe00hw58",
        "colab_type": "code",
        "outputId": "8654e7c6-8dbd-40f2-e2de-9cdf185dfe9c",
        "colab": {
          "base_uri": "https://localhost:8080/",
          "height": 283
        }
      },
      "source": [
        "plt.imshow(x_train[0])"
      ],
      "execution_count": 89,
      "outputs": [
        {
          "output_type": "execute_result",
          "data": {
            "text/plain": [
              "<matplotlib.image.AxesImage at 0x7f6a66107f60>"
            ]
          },
          "metadata": {
            "tags": []
          },
          "execution_count": 89
        },
        {
          "output_type": "display_data",
          "data": {
            "image/png": "[encoded data removed]",
            "text/plain": [
              "<Figure size 432x288 with 1 Axes>"
            ]
          },
          "metadata": {
            "tags": [],
            "needs_background": "light"
          }
        }
      ]
    },
    {
      "cell_type": "code",
      "metadata": {
        "id": "dYUrkKN0ijG6",
        "colab_type": "code",
        "colab": {}
      },
      "source": [
        "only_zeroes = x_train[y_train==0]"
      ],
      "execution_count": 0,
      "outputs": []
    },
    {
      "cell_type": "code",
      "metadata": {
        "id": "qVESuJ73-tC6",
        "colab_type": "code",
        "outputId": "3093cb04-5e3e-46bb-e303-ff7dffb67b71",
        "colab": {
          "base_uri": "https://localhost:8080/",
          "height": 35
        }
      },
      "source": [
        "only_zeroes.shape"
      ],
      "execution_count": 91,
      "outputs": [
        {
          "output_type": "execute_result",
          "data": {
            "text/plain": [
              "(5923, 28, 28)"
            ]
          },
          "metadata": {
            "tags": []
          },
          "execution_count": 91
        }
      ]
    },
    {
      "cell_type": "code",
      "metadata": {
        "id": "RAM3lk0x_Kzp",
        "colab_type": "code",
        "colab": {}
      },
      "source": [
        "import tensorflow as tf\n",
        "from tensorflow.keras.layers import Dense, Reshape, Flatten\n",
        "from tensorflow.keras.models import Sequential"
      ],
      "execution_count": 0,
      "outputs": []
    },
    {
      "cell_type": "code",
      "metadata": {
        "id": "qrkGKkwN_vUI",
        "colab_type": "code",
        "colab": {}
      },
      "source": [
        "discriminator = Sequential()\n",
        "discriminator.add(Flatten(input_shape =[28,28]))\n",
        "discriminator.add(Dense(150, activation = 'relu'))\n",
        "discriminator.add(Dense(100, activation = 'relu'))\n",
        "\n",
        "#Final Output Layer \n",
        "discriminator.add(Dense(1, activation = 'sigmoid'))\n",
        "\n",
        "discriminator.compile(loss='binary_crossentropy', optimizer = 'adam')"
      ],
      "execution_count": 0,
      "outputs": []
    },
    {
      "cell_type": "code",
      "metadata": {
        "id": "7hR-clQG_0sI",
        "colab_type": "code",
        "colab": {}
      },
      "source": [
        "codings_size = 100\n",
        "#100 -- 150 --> 784\n",
        "\n",
        "generator = Sequential()\n",
        "generator.add(Dense(100, activation = 'relu', input_shape = [codings_size]))\n",
        "generator.add(Dense(150, activation = 'relu'))\n",
        "generator.add(Dense(784, activation = 'relu'))\n",
        "generator.add(Reshape([28,28]))"
      ],
      "execution_count": 0,
      "outputs": []
    },
    {
      "cell_type": "code",
      "metadata": {
        "id": "2pyUXPa_ABeo",
        "colab_type": "code",
        "colab": {}
      },
      "source": [
        "GAN = Sequential([generator, discriminator])"
      ],
      "execution_count": 0,
      "outputs": []
    },
    {
      "cell_type": "code",
      "metadata": {
        "id": "lQFDiWE4A1XY",
        "colab_type": "code",
        "colab": {}
      },
      "source": [
        "discriminator.trainable = False"
      ],
      "execution_count": 0,
      "outputs": []
    },
    {
      "cell_type": "code",
      "metadata": {
        "id": "lvfPpL9wBgTn",
        "colab_type": "code",
        "colab": {}
      },
      "source": [
        "GAN.compile(loss = 'binary_crossentropy', optimizer = 'adam')"
      ],
      "execution_count": 0,
      "outputs": []
    },
    {
      "cell_type": "code",
      "metadata": {
        "id": "vNS4zEMF-viX",
        "colab_type": "code",
        "colab": {}
      },
      "source": [
        "batch_size = 32"
      ],
      "execution_count": 0,
      "outputs": []
    },
    {
      "cell_type": "code",
      "metadata": {
        "id": "Qn3O5qXU-vZ9",
        "colab_type": "code",
        "colab": {}
      },
      "source": [
        "my_data = only_zeroes"
      ],
      "execution_count": 0,
      "outputs": []
    },
    {
      "cell_type": "code",
      "metadata": {
        "id": "JQOzK1EtLoMg",
        "colab_type": "code",
        "colab": {}
      },
      "source": [
        "dataset = tf.data.Dataset.from_tensor_slices(my_data).shuffle(buffer_size = 1000)"
      ],
      "execution_count": 0,
      "outputs": []
    },
    {
      "cell_type": "code",
      "metadata": {
        "id": "A1WcCa8hLoHP",
        "colab_type": "code",
        "outputId": "74eb20ee-9817-4962-98c8-089a2ed64aca",
        "colab": {
          "base_uri": "https://localhost:8080/",
          "height": 35
        }
      },
      "source": [
        "type(dataset)"
      ],
      "execution_count": 101,
      "outputs": [
        {
          "output_type": "execute_result",
          "data": {
            "text/plain": [
              "tensorflow.python.data.ops.dataset_ops.ShuffleDataset"
            ]
          },
          "metadata": {
            "tags": []
          },
          "execution_count": 101
        }
      ]
    },
    {
      "cell_type": "code",
      "metadata": {
        "id": "dZnNwNQcLoGa",
        "colab_type": "code",
        "colab": {}
      },
      "source": [
        "dataset = dataset.batch(batch_size, drop_remainder = True).prefetch(1)"
      ],
      "execution_count": 0,
      "outputs": []
    },
    {
      "cell_type": "code",
      "metadata": {
        "id": "wkpI1sRuLoBp",
        "colab_type": "code",
        "colab": {}
      },
      "source": [
        "epochs = 1"
      ],
      "execution_count": 0,
      "outputs": []
    },
    {
      "cell_type": "code",
      "metadata": {
        "id": "kCmLXzKk_N0u",
        "colab_type": "code",
        "colab": {
          "base_uri": "https://localhost:8080/",
          "height": 88
        },
        "outputId": "0856a2bc-54d8-4eac-c895-c065821e4a65"
      },
      "source": [
        "GAN.layers[0].layers"
      ],
      "execution_count": 104,
      "outputs": [
        {
          "output_type": "execute_result",
          "data": {
            "text/plain": [
              "[<tensorflow.python.keras.layers.core.Dense at 0x7f6a660d5978>,\n",
              " <tensorflow.python.keras.layers.core.Dense at 0x7f6a660d5d30>,\n",
              " <tensorflow.python.keras.layers.core.Dense at 0x7f6a660d5e80>,\n",
              " <tensorflow.python.keras.layers.core.Reshape at 0x7f6a6616c550>]"
            ]
          },
          "metadata": {
            "tags": []
          },
          "execution_count": 104
        }
      ]
    },
    {
      "cell_type": "code",
      "metadata": {
        "id": "u4iQXya0_I3U",
        "colab_type": "code",
        "colab": {
          "base_uri": "https://localhost:8080/",
          "height": 301
        },
        "outputId": "77fc45c3-28fa-4ee4-efa5-5c213c56d371"
      },
      "source": [
        "GAN.layers[0].summary()"
      ],
      "execution_count": 105,
      "outputs": [
        {
          "output_type": "stream",
          "text": [
            "Model: \"sequential_12\"\n",
            "_________________________________________________________________\n",
            "Layer (type)                 Output Shape              Param #   \n",
            "=================================================================\n",
            "dense_24 (Dense)             (None, 100)               10100     \n",
            "_________________________________________________________________\n",
            "dense_25 (Dense)             (None, 150)               15150     \n",
            "_________________________________________________________________\n",
            "dense_26 (Dense)             (None, 784)               118384    \n",
            "_________________________________________________________________\n",
            "reshape_4 (Reshape)          (None, 28, 28)            0         \n",
            "=================================================================\n",
            "Total params: 143,634\n",
            "Trainable params: 143,634\n",
            "Non-trainable params: 0\n",
            "_________________________________________________________________\n"
          ],
          "name": "stdout"
        }
      ]
    },
    {
      "cell_type": "code",
      "metadata": {
        "id": "rlVSLXv0LoAy",
        "colab_type": "code",
        "outputId": "734580de-4a78-4ded-f8d4-5b9e3385c38c",
        "colab": {
          "base_uri": "https://localhost:8080/",
          "height": 301
        }
      },
      "source": [
        "GAN.layers[1].summary()"
      ],
      "execution_count": 106,
      "outputs": [
        {
          "output_type": "stream",
          "text": [
            "Model: \"sequential_11\"\n",
            "_________________________________________________________________\n",
            "Layer (type)                 Output Shape              Param #   \n",
            "=================================================================\n",
            "flatten_3 (Flatten)          (None, 784)               0         \n",
            "_________________________________________________________________\n",
            "dense_21 (Dense)             (None, 150)               117750    \n",
            "_________________________________________________________________\n",
            "dense_22 (Dense)             (None, 100)               15100     \n",
            "_________________________________________________________________\n",
            "dense_23 (Dense)             (None, 1)                 101       \n",
            "=================================================================\n",
            "Total params: 132,951\n",
            "Trainable params: 0\n",
            "Non-trainable params: 132,951\n",
            "_________________________________________________________________\n"
          ],
          "name": "stdout"
        }
      ]
    },
    {
      "cell_type": "code",
      "metadata": {
        "id": "bjwKLm7nLn7_",
        "colab_type": "code",
        "outputId": "e2a42b2a-efe0-4246-83d4-c8c6aad98cc3",
        "colab": {
          "base_uri": "https://localhost:8080/",
          "height": 52
        }
      },
      "source": [
        "generator, discriminator = GAN.layers\n",
        "\n",
        "for epoch in range(epochs):\n",
        "  print(f'Currently on Epoch {epoch+1}')\n",
        "  i=0\n",
        "\n",
        "  for x_batch in dataset:\n",
        "\n",
        "    i = i+1\n",
        "\n",
        "    if i%100 ==0:\n",
        "      print(f\"\\t Currently on batch number {i} of (len(my_data)//batch_size)\")\n",
        "\n",
        "    # Discrimator\n",
        "\n",
        "    noise = tf.random.normal(shape =[batch_size, codings_size])\n",
        "\n",
        "    gen_images = generator(noise)\n",
        "\n",
        "    x_fake_vs_real = tf.concat([gen_images, tf.dtypes.cast(x_batch, tf.float32)], axis = 0)\n",
        "\n",
        "    y1 = tf.constant([[0.0]]*batch_size + [[1.0]]*batch_size)\n",
        "\n",
        "    discriminator.trainable = True\n",
        "\n",
        "    discriminator.train_on_batch(x_fake_vs_real, y1)\n",
        "\n",
        "\n",
        "    # Training Generating\n",
        "    noise = tf.random.normal(shape=[batch_size, codings_size])\n",
        "    y2 = tf.constant( [[1.0]]*batch_size)\n",
        "    discriminator.trainable = False\n",
        "    GAN.train_on_batch(noise, y2)"
      ],
      "execution_count": 110,
      "outputs": [
        {
          "output_type": "stream",
          "text": [
            "Currently on Epoch 1\n",
            "\t Currently on batch number 100 of (len(my_data)//batch_size)\n"
          ],
          "name": "stdout"
        }
      ]
    },
    {
      "cell_type": "code",
      "metadata": {
        "id": "5iJKQurPLn7I",
        "colab_type": "code",
        "colab": {
          "base_uri": "https://localhost:8080/",
          "height": 35
        },
        "outputId": "f2205137-6736-4469-98e7-9490565eb1dd"
      },
      "source": [
        "noise = tf.random.normal(shape = [10, codings_size])\n",
        "noise.shape"
      ],
      "execution_count": 120,
      "outputs": [
        {
          "output_type": "execute_result",
          "data": {
            "text/plain": [
              "TensorShape([10, 100])"
            ]
          },
          "metadata": {
            "tags": []
          },
          "execution_count": 120
        }
      ]
    },
    {
      "cell_type": "code",
      "metadata": {
        "id": "hPRsWiaqLn2t",
        "colab_type": "code",
        "colab": {
          "base_uri": "https://localhost:8080/",
          "height": 102
        },
        "outputId": "00a7a460-688c-45cf-aeff-7c2c61a19a95"
      },
      "source": [
        "plt.imshow(noise)"
      ],
      "execution_count": 122,
      "outputs": [
        {
          "output_type": "execute_result",
          "data": {
            "text/plain": [
              "<matplotlib.image.AxesImage at 0x7f6a68120fd0>"
            ]
          },
          "metadata": {
            "tags": []
          },
          "execution_count": 122
        },
        {
          "output_type": "display_data",
          "data": {
            "image/png": "[encoded data removed]",
            "text/plain": [
              "<Figure size 432x288 with 1 Axes>"
            ]
          },
          "metadata": {
            "tags": [],
            "needs_background": "light"
          }
        }
      ]
    },
    {
      "cell_type": "code",
      "metadata": {
        "id": "y5GkTzoFLn1u",
        "colab_type": "code",
        "colab": {}
      },
      "source": [
        "images = generator(noise)"
      ],
      "execution_count": 0,
      "outputs": []
    },
    {
      "cell_type": "code",
      "metadata": {
        "id": "zdohR0lHLnxs",
        "colab_type": "code",
        "colab": {
          "base_uri": "https://localhost:8080/",
          "height": 35
        },
        "outputId": "a258dca5-d1db-46af-ba87-86eb6c03ad31"
      },
      "source": [
        "images.shape"
      ],
      "execution_count": 124,
      "outputs": [
        {
          "output_type": "execute_result",
          "data": {
            "text/plain": [
              "TensorShape([10, 28, 28])"
            ]
          },
          "metadata": {
            "tags": []
          },
          "execution_count": 124
        }
      ]
    },
    {
      "cell_type": "code",
      "metadata": {
        "id": "WRIuRGnLLnwJ",
        "colab_type": "code",
        "colab": {
          "base_uri": "https://localhost:8080/",
          "height": 283
        },
        "outputId": "14673260-04da-429c-dac4-c6b97afb20e2"
      },
      "source": [
        "plt.imshow(images[0])"
      ],
      "execution_count": 126,
      "outputs": [
        {
          "output_type": "execute_result",
          "data": {
            "text/plain": [
              "<matplotlib.image.AxesImage at 0x7f6a64525a90>"
            ]
          },
          "metadata": {
            "tags": []
          },
          "execution_count": 126
        },
        {
          "output_type": "display_data",
          "data": {
            "image/png": "[encoded data removed]",
            "text/plain": [
              "<Figure size 432x288 with 1 Axes>"
            ]
          },
          "metadata": {
            "tags": [],
            "needs_background": "light"
          }
        }
      ]
    },
    {
      "cell_type": "code",
      "metadata": {
        "id": "H2sdcrUKUPFv",
        "colab_type": "code",
        "colab": {}
      },
      "source": [
        ""
      ],
      "execution_count": 0,
      "outputs": []
    }
  ]
}